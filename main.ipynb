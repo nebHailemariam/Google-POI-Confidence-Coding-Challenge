{
 "cells": [
  {
   "cell_type": "markdown",
   "id": "48f1781d",
   "metadata": {},
   "source": [
    "# Solution"
   ]
  },
  {
   "cell_type": "markdown",
   "id": "766fd9e8",
   "metadata": {},
   "source": [
    "## Importing packages\n"
   ]
  },
  {
   "cell_type": "code",
   "execution_count": 7,
   "id": "d9bdb9b1",
   "metadata": {},
   "outputs": [],
   "source": [
    "import pandas as pd\n",
    "from difflib import SequenceMatcher"
   ]
  },
  {
   "cell_type": "markdown",
   "id": "23c3087e",
   "metadata": {},
   "source": [
    "## Reading data"
   ]
  },
  {
   "cell_type": "code",
   "execution_count": 8,
   "id": "5a30eb85",
   "metadata": {},
   "outputs": [],
   "source": [
    "osm_poi_df = pd.read_csv(\"osm_poi.csv\", sep=\";\", low_memory=False)\n",
    "google_poi_df = pd.read_csv(\"google_poi.csv\", sep=\";\")\n",
    "matching_df = pd.read_csv(\"google_osm_poi_matching.csv\", sep=\";\")\n"
   ]
  },
  {
   "cell_type": "markdown",
   "id": "dd468072",
   "metadata": {},
   "source": [
    "## Adding new confidence score column to google_osm_poi_matching.csv"
   ]
  },
  {
   "cell_type": "code",
   "execution_count": 9,
   "id": "7be534d5",
   "metadata": {},
   "outputs": [],
   "source": [
    "matching_df[\"confidence_score\"] = 0.0"
   ]
  },
  {
   "cell_type": "markdown",
   "id": "46d36c81",
   "metadata": {},
   "source": [
    "## Computing confidence score for one row of osm and google data"
   ]
  },
  {
   "cell_type": "code",
   "execution_count": 10,
   "id": "e96959f7",
   "metadata": {},
   "outputs": [],
   "source": [
    "# tag, category, address\n",
    "identical_columns = [\"latitude\", \"longitude\", \"name\"]\n",
    "similar_columns = [(\"contact_website\",\"website\"), (\"contact_phone\", \"phone\")]\n",
    "osm_address_columns = [\"address_details_level\", \"address_house_nr\", \"address_street\", \"address_zip_code\",\n",
    " \"address_city\", \"address_country\", \"address_full\", \"address_region_neighborhood\", \n",
    " \"address_region_suburb\", \"address_region_district\", \"address_region_province\", \"address_region_state\", \n",
    " \"address_house_name\", \"address_place\", \"address_block\", \"address_details_level\", \"address_details_flats\"]\n",
    "\n",
    "def compute_confidence_score(osm_data, google_data):\n",
    "    identical_columns_confidence_score = 0\n",
    "    similar_columns_confidence_score = 0\n",
    "    address_columns_confidence_score = 0\n",
    "    tag_columns_confidence_score = 0\n",
    "    category_column_confidence_score = 0\n",
    "    \n",
    "    for col in identical_columns:\n",
    "        if pd.isna(osm_data[col].values[0]) and pd.isna(google_data[col].values[0]):\n",
    "            identical_columns_confidence_score += 1\n",
    "            continue\n",
    "        if pd.isna(osm_data[col].values[0]) or pd.isna(google_data[col].values[0]):\n",
    "            continue\n",
    "        if col == \"latitude\" or col == \"longitude\":\n",
    "            if SequenceMatcher(None, str(round(float(osm_data[col].values[0]),3)), str(round(float(google_data[col].values[0]),3))).ratio() > 0.5:\n",
    "                identical_columns_confidence_score += 1\n",
    "        elif SequenceMatcher(None, str(osm_data[col].values[0]), str(google_data[col].values[0])).ratio() > 0.7:\n",
    "            identical_columns_confidence_score += 1\n",
    "    \n",
    "    for col in similar_columns:\n",
    "        if pd.isna(osm_data[col[1]].values[0]) and pd.isna(google_data[col[0]].values[0]):\n",
    "            similar_columns_confidence_score += 1\n",
    "            continue\n",
    "        if pd.isna(osm_data[col[1]].values[0]) or pd.isna(google_data[col[0]].values[0]):\n",
    "            continue\n",
    "        if SequenceMatcher(None, str(osm_data[col[1]].values[0]), str(google_data[col[0]].values[0])).ratio() > 0.6:\n",
    "            similar_columns_confidence_score += 1\n",
    "    \n",
    "    \n",
    "    for col in osm_address_columns:\n",
    "        if pd.isna(osm_data[col].values[0]) or pd.isna(google_data[\"address\"].values[0]):\n",
    "            continue\n",
    "        \n",
    "        google_addresses = google_data[\"address\"].values[0][1:-1].split(\",\")\n",
    "        for google_address in google_addresses:\n",
    "            if SequenceMatcher(None, str(osm_data[col].values[0]), google_address).ratio() > 0.5:\n",
    "                address_columns_confidence_score += 1\n",
    "    \n",
    "    \n",
    "    for osm_tags in osm_data[\"tags\"]:\n",
    "        if pd.isna(osm_tags):\n",
    "            continue\n",
    "        osm_tags = osm_tags[1:-1].split(\",\")\n",
    "        for osm_tag in osm_tags:\n",
    "            if len(osm_tag.split(\"=\")) > 1:\n",
    "                osm_tag = osm_tag.split(\"=\")[1]\n",
    "                for google_tags in google_data[\"tags\"]:\n",
    "                    if pd.isna(google_tags):\n",
    "                        continue\n",
    "                    for google_tag in google_tags[1:-1].split(\",\"):\n",
    "                         if SequenceMatcher(None, osm_tag, google_tag).ratio() > 0.5:\n",
    "                                tag_columns_confidence_score += 1\n",
    "    \n",
    "    \n",
    "    \n",
    "    for osm_categories in osm_data[\"categories\"]:\n",
    "        if pd.isna(osm_categories):\n",
    "            continue\n",
    "        for osm_category in osm_categories[1:-1].split(\",\"):\n",
    "            for google_categories in google_data[\"categories\"]:\n",
    "                if pd.isna(google_categories):\n",
    "                    continue\n",
    "                for google_category in google_categories[1:-1].split(\",\"):\n",
    "                    if SequenceMatcher(None, osm_category, google_category).ratio() > 0.5:\n",
    "                        category_column_confidence_score += 1\n",
    "    \n",
    "    \n",
    "    identical_columns_confidence_score = (identical_columns_confidence_score / 3) * 0.4\n",
    "    similar_columns_confidence_score = (similar_columns_confidence_score / 2) * 0.3\n",
    "    address_columns_confidence_score = (address_columns_confidence_score / 2) * 0.15\n",
    "    tag_columns_confidence_score = (tag_columns_confidence_score / 2) * 0.075\n",
    "    category_column_confidence_score = (category_column_confidence_score / 2) * 0.075\n",
    "    \n",
    "    confidence_score = identical_columns_confidence_score + similar_columns_confidence_score + address_columns_confidence_score + tag_columns_confidence_score + category_column_confidence_score\n",
    "    if confidence_score > 1:\n",
    "        confidence_score = 1\n",
    "    \n",
    "    return confidence_score\n",
    "\n",
    "\n"
   ]
  },
  {
   "cell_type": "markdown",
   "id": "8061ca82",
   "metadata": {},
   "source": [
    "## Iterating over rows in google_osm_poi_matching.csv file and computing confidence score"
   ]
  },
  {
   "cell_type": "code",
   "execution_count": 11,
   "id": "53be5373",
   "metadata": {
    "scrolled": true
   },
   "outputs": [
    {
     "data": {
      "text/html": [
       "<div>\n",
       "<style scoped>\n",
       "    .dataframe tbody tr th:only-of-type {\n",
       "        vertical-align: middle;\n",
       "    }\n",
       "\n",
       "    .dataframe tbody tr th {\n",
       "        vertical-align: top;\n",
       "    }\n",
       "\n",
       "    .dataframe thead th {\n",
       "        text-align: right;\n",
       "    }\n",
       "</style>\n",
       "<table border=\"1\" class=\"dataframe\">\n",
       "  <thead>\n",
       "    <tr style=\"text-align: right;\">\n",
       "      <th></th>\n",
       "      <th>osm_type</th>\n",
       "      <th>osm_id</th>\n",
       "      <th>internal_id</th>\n",
       "      <th>query</th>\n",
       "      <th>confidence_score</th>\n",
       "    </tr>\n",
       "  </thead>\n",
       "  <tbody>\n",
       "    <tr>\n",
       "      <th>0</th>\n",
       "      <td>way</td>\n",
       "      <td>154470603</td>\n",
       "      <td>0x130e44cd6e20475f:0x671441b8dc03be60</td>\n",
       "      <td>Kalkara</td>\n",
       "      <td>0.566667</td>\n",
       "    </tr>\n",
       "    <tr>\n",
       "      <th>1</th>\n",
       "      <td>node</td>\n",
       "      <td>5896564791</td>\n",
       "      <td>0x130e45014da2fa03:0xf743a120b9194c06</td>\n",
       "      <td>Spar, Triq Tigné</td>\n",
       "      <td>0.566667</td>\n",
       "    </tr>\n",
       "    <tr>\n",
       "      <th>2</th>\n",
       "      <td>node</td>\n",
       "      <td>2471609507</td>\n",
       "      <td>0x130e4501edfb329b:0x9edcdba888218c47</td>\n",
       "      <td>Bayview Hotel &amp; Apartments, The Strand 143, Sl...</td>\n",
       "      <td>0.641667</td>\n",
       "    </tr>\n",
       "    <tr>\n",
       "      <th>3</th>\n",
       "      <td>node</td>\n",
       "      <td>6222651588</td>\n",
       "      <td>0x130e450a6e7438bd:0x5af47e8f69212d52</td>\n",
       "      <td>David Hardware Store, Triq Carlo Manche</td>\n",
       "      <td>0.625000</td>\n",
       "    </tr>\n",
       "    <tr>\n",
       "      <th>4</th>\n",
       "      <td>node</td>\n",
       "      <td>6635172974</td>\n",
       "      <td>0x130e451ad5f0c673:0x1973502978d5c025</td>\n",
       "      <td>Chef Lee, Triq d'Argens</td>\n",
       "      <td>0.662500</td>\n",
       "    </tr>\n",
       "  </tbody>\n",
       "</table>\n",
       "</div>"
      ],
      "text/plain": [
       "  osm_type      osm_id                            internal_id  \\\n",
       "0      way   154470603  0x130e44cd6e20475f:0x671441b8dc03be60   \n",
       "1     node  5896564791  0x130e45014da2fa03:0xf743a120b9194c06   \n",
       "2     node  2471609507  0x130e4501edfb329b:0x9edcdba888218c47   \n",
       "3     node  6222651588  0x130e450a6e7438bd:0x5af47e8f69212d52   \n",
       "4     node  6635172974  0x130e451ad5f0c673:0x1973502978d5c025   \n",
       "\n",
       "                                               query  confidence_score  \n",
       "0                                            Kalkara          0.566667  \n",
       "1                                   Spar, Triq Tigné          0.566667  \n",
       "2  Bayview Hotel & Apartments, The Strand 143, Sl...          0.641667  \n",
       "3            David Hardware Store, Triq Carlo Manche          0.625000  \n",
       "4                            Chef Lee, Triq d'Argens          0.662500  "
      ]
     },
     "execution_count": 11,
     "metadata": {},
     "output_type": "execute_result"
    }
   ],
   "source": [
    "\n",
    "for index, row in matching_df.iterrows():\n",
    "    osm_id = row[\"osm_id\"]\n",
    "    internal_id = row[\"internal_id\"]\n",
    "    osm_data = osm_poi_df.loc[(osm_poi_df['osm_id'] == osm_id)]\n",
    "    google_data = google_poi_df.loc[(google_poi_df['internal_id'] == internal_id)]\n",
    "    \n",
    "    confidence_score = compute_confidence_score(osm_data, google_data)\n",
    "    matching_df.at[index,'confidence_score'] = confidence_score\n",
    "\n",
    "matching_df.head()\n"
   ]
  },
  {
   "cell_type": "markdown",
   "id": "52ee37fa",
   "metadata": {},
   "source": [
    "## Saving the modified google_osm_poi_matching.csv"
   ]
  },
  {
   "cell_type": "code",
   "execution_count": 12,
   "id": "096cac36",
   "metadata": {},
   "outputs": [],
   "source": [
    "matching_df.to_csv('modified_google_osm_poi_matching.csv', index=False)"
   ]
  }
 ],
 "metadata": {
  "kernelspec": {
   "display_name": "Python 3 (ipykernel)",
   "language": "python",
   "name": "python3"
  },
  "language_info": {
   "codemirror_mode": {
    "name": "ipython",
    "version": 3
   },
   "file_extension": ".py",
   "mimetype": "text/x-python",
   "name": "python",
   "nbconvert_exporter": "python",
   "pygments_lexer": "ipython3",
   "version": "3.8.10"
  }
 },
 "nbformat": 4,
 "nbformat_minor": 5
}
